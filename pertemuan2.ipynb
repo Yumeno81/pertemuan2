{
  "nbformat": 4,
  "nbformat_minor": 0,
  "metadata": {
    "colab": {
      "provenance": [],
      "authorship_tag": "ABX9TyPvi4tOpmlCBOkfIHH46nXP",
      "include_colab_link": true
    },
    "kernelspec": {
      "name": "python3",
      "display_name": "Python 3"
    },
    "language_info": {
      "name": "python"
    }
  },
  "cells": [
    {
      "cell_type": "markdown",
      "metadata": {
        "id": "view-in-github",
        "colab_type": "text"
      },
      "source": [
        "<a href=\"https://colab.research.google.com/github/Yumeno81/pertemuan2/blob/main/pertemuan2.ipynb\" target=\"_parent\"><img src=\"https://colab.research.google.com/assets/colab-badge.svg\" alt=\"Open In Colab\"/></a>"
      ]
    },
    {
      "cell_type": "markdown",
      "source": [
        "kelompok6\n"
      ],
      "metadata": {
        "id": "RIqX8K7Fgd6C"
      }
    },
    {
      "cell_type": "code",
      "execution_count": 1,
      "metadata": {
        "colab": {
          "base_uri": "https://localhost:8080/"
        },
        "id": "u_kyh5hugEER",
        "outputId": "70d3b7de-73c4-429b-a60d-ae0cf7be8512"
      },
      "outputs": [
        {
          "output_type": "stream",
          "name": "stdout",
          "text": [
            "['aldi', 'bintang', 'deya', 'erico', 'evi', 'mega']\n"
          ]
        }
      ],
      "source": [
        "nama_acak =[\"evi\",\"aldi\",\"bintang\",\"mega\",\"erico\",\"deya\"]\n",
        "nama_acak.sort()\n",
        "print(nama_acak)"
      ]
    }
  ]
}